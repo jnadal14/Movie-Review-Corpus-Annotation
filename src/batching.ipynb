{
 "cells": [
  {
   "cell_type": "code",
   "execution_count": 46,
   "id": "80cd3216-e8d7-4cf6-ae88-8469990b209e",
   "metadata": {},
   "outputs": [],
   "source": [
    "data_dir = \"/Users/daomingliu/Desktop/mds-cl/523/COLX_523_Group-Repository_David-Daoming-Jacob-Nicole/data/retrieved_docs/\"\n",
    "batched_path = \"/Users/daomingliu/Desktop/mds-cl/523/COLX_523_Group-Repository_David-Daoming-Jacob-Nicole/data/retrieved_docs/corpus/\"\n",
    "batches = [\"batch_1\", \"batch_2\", \"batch_3\", \"batch_4\"]\n",
    "batch_size = [250,250,250,251]"
   ]
  },
  {
   "cell_type": "code",
   "execution_count": 47,
   "id": "8acd6c3b-f694-4ce0-8a04-9fe5b08ab1f9",
   "metadata": {},
   "outputs": [],
   "source": [
    "import os\n",
    "\n",
    "for batch in batches:\n",
    "   os.makedirs(os.path.join(batched_path, batch), exist_ok=True)\n",
    "\n"
   ]
  },
  {
   "cell_type": "code",
   "execution_count": null,
   "id": "f3f87a6b-2470-47df-9e50-8c04d32009ff",
   "metadata": {},
   "outputs": [],
   "source": [
    "import shutil\n",
    "\n",
    "for i in range(1, 1002):\n",
    "    file_num = i\n",
    "    batch_num = min((i - 1) // 250 + 1, 4)\n",
    "\n",
    "    file_path = f\"../data/retrieved_docs/review_doc_{file_num}.txt\"            \n",
    "    target_path = f\"../data/retrieved_docs/corpus/batch_{batch_num}/\"            \n",
    "    shutil.move(file_path, target_path)"
   ]
  }
 ],
 "metadata": {
  "kernelspec": {
   "display_name": "Python 3 (ipykernel)",
   "language": "python",
   "name": "python3"
  },
  "language_info": {
   "codemirror_mode": {
    "name": "ipython",
    "version": 3
   },
   "file_extension": ".py",
   "mimetype": "text/x-python",
   "name": "python",
   "nbconvert_exporter": "python",
   "pygments_lexer": "ipython3",
   "version": "3.11.9"
  }
 },
 "nbformat": 4,
 "nbformat_minor": 5
}
