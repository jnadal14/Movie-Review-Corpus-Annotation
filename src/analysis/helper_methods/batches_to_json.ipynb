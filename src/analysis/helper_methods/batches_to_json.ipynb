{
 "cells": [
  {
   "cell_type": "code",
   "execution_count": 7,
   "metadata": {},
   "outputs": [],
   "source": [
    "import os\n",
    "import json\n",
    "import pandas as pd"
   ]
  },
  {
   "cell_type": "code",
   "execution_count": 10,
   "metadata": {},
   "outputs": [
    {
     "name": "stdout",
     "output_type": "stream",
     "text": [
      "../modified_corpus_batches/batch_1.json\n",
      "Successfully created json object for batch_1/\n",
      "../modified_corpus_batches/batch_2.json\n",
      "Successfully created json object for batch_2/\n",
      "../modified_corpus_batches/batch_3.json\n",
      "Successfully created json object for batch_3/\n",
      "../modified_corpus_batches/batch_4.json\n",
      "Successfully created json object for batch_4/\n"
     ]
    }
   ],
   "source": [
    "parent_dir = \"../../../data/retrieved_docs/corpus/\"\n",
    "child_dirs = [\"batch_1/\", \"batch_2/\", \"batch_3/\", \"batch_4/\"]\n",
    "\n",
    "for child_dir in child_dirs:\n",
    "    data = []\n",
    "    curr_dir = parent_dir+child_dir\n",
    "    for filename in os.listdir(curr_dir):\n",
    "        if filename.startswith(\"review_doc_\") and filename.endswith(\".txt\"):\n",
    "            file_path = os.path.join(curr_dir, filename)\n",
    "\n",
    "            with open(file_path, \"r\", encoding=\"utf-8\") as file:\n",
    "                json_obj = json.load(file)\n",
    "                data.append(json_obj)\n",
    "    df = pd.DataFrame(data)\n",
    "    output_json_path = \"../modified_corpus_batches/\" + child_dir[:len(child_dir)-1] + \".json\"\n",
    "    print(output_json_path)\n",
    "    df.to_json(output_json_path, orient=\"records\", indent=4)\n",
    "    print(f\"Successfully created json object for {child_dir}\")\n",
    "        "
   ]
  },
  {
   "cell_type": "code",
   "execution_count": 11,
   "metadata": {},
   "outputs": [
    {
     "name": "stdout",
     "output_type": "stream",
     "text": [
      "Excel file successfully created: ../modified_corpus_batches/batch_1.xlsx\n",
      "Excel file successfully created: ../modified_corpus_batches/batch_2.xlsx\n",
      "Excel file successfully created: ../modified_corpus_batches/batch_3.xlsx\n",
      "Excel file successfully created: ../modified_corpus_batches/batch_4.xlsx\n"
     ]
    }
   ],
   "source": [
    "# convert json objects excel\n",
    "parent_dir = \"../modified_corpus_batches/\"\n",
    "json_objs = [\"batch_1\", \"batch_2\", \"batch_3\", \"batch_4\"]\n",
    "ouptut_path = \"../modified_corpus_batches/\"\n",
    "\n",
    "for json_obj in json_objs:\n",
    "    output_excel_path = os.path.join(ouptut_path, json_obj + \".xlsx\")\n",
    "    df = pd.read_json(parent_dir+json_obj+\".json\")\n",
    "    df.to_excel(output_excel_path, index=False)\n",
    "    print(f\"Excel file successfully created: {output_excel_path}\")"
   ]
  },
  {
   "cell_type": "code",
   "execution_count": null,
   "metadata": {},
   "outputs": [],
   "source": []
  }
 ],
 "metadata": {
  "kernelspec": {
   "display_name": "base",
   "language": "python",
   "name": "python3"
  },
  "language_info": {
   "codemirror_mode": {
    "name": "ipython",
    "version": 3
   },
   "file_extension": ".py",
   "mimetype": "text/x-python",
   "name": "python",
   "nbconvert_exporter": "python",
   "pygments_lexer": "ipython3",
   "version": "3.11.9"
  }
 },
 "nbformat": 4,
 "nbformat_minor": 2
}
