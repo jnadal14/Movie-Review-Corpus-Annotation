{
 "cells": [
  {
   "cell_type": "code",
   "execution_count": 32,
   "metadata": {},
   "outputs": [],
   "source": [
    "from llm import llm_response\n",
    "import numpy as np\n",
    "import pandas as pd\n",
    "from tqdm.notebook import tqdm"
   ]
  },
  {
   "cell_type": "code",
   "execution_count": 155,
   "metadata": {},
   "outputs": [],
   "source": [
    "old_prompt = \"\"\"You are a helpful classifier that classifies the given Movie Review into Pathos, Ethos, Logos, or None.\n",
    "    *** Only classify a review as None if the review is either:\n",
    "    - Not in English\n",
    "    - Review does not contain enough context to evalue upon (e.g. if the review is too short)\n",
    "\n",
    "    Difference Between Pathos, Ethos, and Logos:\n",
    "    1. Pathos (Emotional Appeal)\n",
    "    • Appeals to emotions and feelings.\n",
    "    • Used to evoke sympathy, excitement, nostalgia, or any emotional response from the audience.\n",
    "    • Example: A movie review that describes how a film made the reviewer cry, laugh, or feel deeply connected to the characters.\n",
    "    2. Ethos (Credibility/Authority)\n",
    "    • Establishes the credibility or expertise of the reviewer.\n",
    "    • Uses personal experience, professional background, or external validation to justify opinions.\n",
    "    • Example: A review written by a well-known film critic or someone with experience in filmmaking.\n",
    "    3. Logos (Logical Appeal)\n",
    "    • Uses logic, facts, and reasoning to support an argument.\n",
    "    • May include comparisons, statistics, or objective analysis.\n",
    "    • Example: A review discussing the film’s cinematography, screenplay structure, or historical accuracy with evidence.\n",
    "\n",
    "    ***IMPORTANT***\n",
    "    Only return one the following 4: Pathos, Ethos, Logos, None\n",
    "    Do NOT return any other response other than the 4.\n",
    "\"\"\"\n",
    "\n",
    "prompt = \"\"\"You are a helpful classifier that classifies the given Movie Review into Pathos, Ethos, or Logos.\n",
    "    Difference Between Pathos, Ethos, and Logos:\n",
    "    1. Pathos (Emotional Appeal)\n",
    "    • Appeals to emotions and feelings.\n",
    "    • Used to evoke sympathy, excitement, nostalgia, or any emotional response from the audience.\n",
    "    • Example: A movie review that describes how a film made the reviewer cry, laugh, or feel deeply connected to the characters.\n",
    "    2. Ethos (Credibility/Authority)\n",
    "    • Establishes the credibility or expertise of the reviewer - do not mistaken the reviewer for a character in the film or the director of the film.\n",
    "    • Uses personal experience, professional background, or external validation to justify opinions.\n",
    "    • Example: A review written by a well-known film critic or someone with experience in filmmaking.\n",
    "    3. Logos (Logical Appeal)\n",
    "    • Uses logic, facts, and reasoning to support an argument.\n",
    "    • May include comparisons, statistics, or objective analysis.\n",
    "    • Example: A review discussing the film’s cinematography, screenplay structure, or historical accuracy with evidence.\n",
    "\n",
    "    Example:\n",
    "    Ethos \n",
    "    “As an acclaimed film critic with over 20 years of experience, I can confidently say that The Godfather remains one of the most masterfully directed films in cinematic history. Coppola’s meticulous storytelling and Brando’s legendary performance solidify its place as a timeless classic.”\n",
    "\n",
    "    Pathos \n",
    "    “With breathtaking cinematography and a heart-wrenching score, Schindler’s List leaves an unforgettable impact that lingers long after the credits roll. The film’s raw portrayal of human suffering is both devastating and deeply moving.”\n",
    "\n",
    "    Logos\n",
    "    “With a 98% rating on Rotten Tomatoes and three Academy Awards, Parasite is a masterclass in social commentary and suspense. Bong Joon-ho’s use of symbolism and tight narrative structure makes this a must-watch for any serious film enthusiast.”\n",
    "\n",
    "    ***IMPORTANT***\n",
    "    Only return one the following 3: Pathos, Ethos, Logos\n",
    "    Do NOT return any other response other than the 3.\n",
    "\"\"\""
   ]
  },
  {
   "cell_type": "code",
   "execution_count": null,
   "metadata": {},
   "outputs": [],
   "source": [
    "# ### TEST\n",
    "# review = \"Grounded in extensive research and practical effects, Oppenheimer is a cinematic triumph that upholds the ethical responsibility of historical storytelling while offering a visually stunning and intellectually profound experience.\"\n",
    "# question = f\"Classify the following movie review: {review}\"\n",
    "# response = llm_response(prompt, question)\n",
    "# print(response)"
   ]
  },
  {
   "cell_type": "code",
   "execution_count": 143,
   "metadata": {},
   "outputs": [],
   "source": [
    "# ### TEST\n",
    "# corpora_directory = \"../modified_corpus_batches/json/\"\n",
    "# corpora_batches = {\n",
    "#     \"batch_1\": \"batch_1.json\"\n",
    "# }\n",
    "# corpora_data = {\n",
    "#     \"batch_1\": None\n",
    "# }\n",
    "# annotations = []\n",
    "\n",
    "# for batch_name, corpora in corpora_batches.items():\n",
    "#     count = 1 # TEST\n",
    "#     data = pd.read_json(corpora_directory + corpora)\n",
    "#     reviews = data[\"Review\"]\n",
    "#     print(f\"Annotating {batch_name}...\")\n",
    "    \n",
    "#     for review in tqdm(reviews, desc=\"Processing\"):\n",
    "#         if count == 0: break # TEST\n",
    "#         question = f\"Classify the following movie review: {review}\"\n",
    "#         annotations.append({\n",
    "#             \"Annotation\": llm_response(prompt, question)\n",
    "#         })\n",
    "#         count-=1 # TEST\n",
    "\n",
    "#     corpora_data[batch_name] = data.copy()\n",
    "    \n",
    "#     for annotation in annotations:\n",
    "#         corpora_data[batch_name][\"Annotation\"] = annotation[\"Annotation\"]"
   ]
  },
  {
   "cell_type": "code",
   "execution_count": 158,
   "metadata": {},
   "outputs": [
    {
     "name": "stdout",
     "output_type": "stream",
     "text": [
      "Annotating batch_1...\n"
     ]
    },
    {
     "data": {
      "application/vnd.jupyter.widget-view+json": {
       "model_id": "2965e976e7734c49a07df40e8040ca9d",
       "version_major": 2,
       "version_minor": 0
      },
      "text/plain": [
       "Processing:   0%|          | 0/250 [00:00<?, ?it/s]"
      ]
     },
     "metadata": {},
     "output_type": "display_data"
    },
    {
     "name": "stdout",
     "output_type": "stream",
     "text": [
      "Annotating batch_2...\n"
     ]
    },
    {
     "data": {
      "application/vnd.jupyter.widget-view+json": {
       "model_id": "204788ef7bed4f18a7a6a31ebac977b8",
       "version_major": 2,
       "version_minor": 0
      },
      "text/plain": [
       "Processing:   0%|          | 0/250 [00:00<?, ?it/s]"
      ]
     },
     "metadata": {},
     "output_type": "display_data"
    },
    {
     "name": "stdout",
     "output_type": "stream",
     "text": [
      "Annotating batch_3...\n"
     ]
    },
    {
     "data": {
      "application/vnd.jupyter.widget-view+json": {
       "model_id": "ccc883da2c1b44cc949dee04aeb914b6",
       "version_major": 2,
       "version_minor": 0
      },
      "text/plain": [
       "Processing:   0%|          | 0/250 [00:00<?, ?it/s]"
      ]
     },
     "metadata": {},
     "output_type": "display_data"
    },
    {
     "name": "stdout",
     "output_type": "stream",
     "text": [
      "Annotating batch_4...\n"
     ]
    },
    {
     "data": {
      "application/vnd.jupyter.widget-view+json": {
       "model_id": "4094d03afa494fc180db4c783ce06f9f",
       "version_major": 2,
       "version_minor": 0
      },
      "text/plain": [
       "Processing:   0%|          | 0/251 [00:00<?, ?it/s]"
      ]
     },
     "metadata": {},
     "output_type": "display_data"
    }
   ],
   "source": [
    "### Annotating batch_1 individually to ensure proper annotation is completed by gpt\n",
    "\n",
    "corpora_directory = \"../modified_corpus_batches/json/\"\n",
    "corpora_batches = {\n",
    "    \"batch_1\": \"batch_1.json\",\n",
    "    \"batch_2\": \"batch_2.json\",\n",
    "    \"batch_3\": \"batch_3.json\",\n",
    "    \"batch_4\": \"batch_4.json\"\n",
    "}\n",
    "corpora_data = {\n",
    "    \"batch_1\": None,\n",
    "    \"batch_2\": None,\n",
    "    \"batch_3\": None,\n",
    "    \"batch_4\": None\n",
    "}\n",
    "all_annotations = {}\n",
    "\n",
    "for batch_name, corpora in corpora_batches.items():\n",
    "    annotations = []\n",
    "    data = pd.read_json(corpora_directory + corpora)\n",
    "    reviews = data[\"Review\"]\n",
    "    print(f\"Annotating {batch_name}...\")\n",
    "    \n",
    "    for review in tqdm(reviews, desc=\"Processing\"):\n",
    "        question = f\"Classify the following movie review: {review}\"\n",
    "        response = llm_response(prompt, question)\n",
    "        annotations.append({\n",
    "            \"Annotation\": response\n",
    "        })\n",
    "\n",
    "    all_annotations[batch_name] = annotations\n",
    "    corpora_data[batch_name] = data.copy()\n",
    "    \n",
    "    for index, annotation in enumerate(annotations):\n",
    "        corpora_data[batch_name].at[index, \"Annotation\"] = annotation[\"Annotation\"]\n",
    "    \n",
    "    corpora_data[batch_name].to_json(corpora_directory + batch_name + \"_gpt_annotated.json\", orient=\"records\", indent=2)\n",
    "    "
   ]
  },
  {
   "cell_type": "code",
   "execution_count": 164,
   "metadata": {},
   "outputs": [
    {
     "data": {
      "text/html": [
       "<div>\n",
       "<style scoped>\n",
       "    .dataframe tbody tr th:only-of-type {\n",
       "        vertical-align: middle;\n",
       "    }\n",
       "\n",
       "    .dataframe tbody tr th {\n",
       "        vertical-align: top;\n",
       "    }\n",
       "\n",
       "    .dataframe thead th {\n",
       "        text-align: right;\n",
       "    }\n",
       "</style>\n",
       "<table border=\"1\" class=\"dataframe\">\n",
       "  <thead>\n",
       "    <tr style=\"text-align: right;\">\n",
       "      <th></th>\n",
       "      <th>Reviewer</th>\n",
       "      <th>Profile_URL</th>\n",
       "      <th>Review</th>\n",
       "      <th>Annotation</th>\n",
       "    </tr>\n",
       "  </thead>\n",
       "  <tbody>\n",
       "    <tr>\n",
       "      <th>0</th>\n",
       "      <td>Jenni Kaye</td>\n",
       "      <td>https://letterboxd.com/hatchetface/</td>\n",
       "      <td>I’m that Leo meme pointing at every new famili...</td>\n",
       "      <td>Pathos</td>\n",
       "    </tr>\n",
       "    <tr>\n",
       "      <th>1</th>\n",
       "      <td>cinemadelrey</td>\n",
       "      <td>https://letterboxd.com/cinemadelrey/</td>\n",
       "      <td>Wow, i'm speechless!And Cilian Murphy's perfor...</td>\n",
       "      <td>Pathos</td>\n",
       "    </tr>\n",
       "    <tr>\n",
       "      <th>2</th>\n",
       "      <td>vitor</td>\n",
       "      <td>https://letterboxd.com/favzscream/</td>\n",
       "      <td>ABSOLUTE CINEMA.que filme foda, as 3hrs passar...</td>\n",
       "      <td>Pathos</td>\n",
       "    </tr>\n",
       "    <tr>\n",
       "      <th>3</th>\n",
       "      <td>aditi</td>\n",
       "      <td>https://letterboxd.com/dianyugen/</td>\n",
       "      <td>One of the best movies of all time. Cillian Mu...</td>\n",
       "      <td>Pathos</td>\n",
       "    </tr>\n",
       "    <tr>\n",
       "      <th>4</th>\n",
       "      <td>teamgal</td>\n",
       "      <td>https://letterboxd.com/teamgal/</td>\n",
       "      <td>Death by sound design.</td>\n",
       "      <td>Logos</td>\n",
       "    </tr>\n",
       "    <tr>\n",
       "      <th>5</th>\n",
       "      <td>DolanDark</td>\n",
       "      <td>https://letterboxd.com/dolandark/</td>\n",
       "      <td>Can't believe they actually put Gangnam Style ...</td>\n",
       "      <td>Logos</td>\n",
       "    </tr>\n",
       "    <tr>\n",
       "      <th>6</th>\n",
       "      <td>the sam</td>\n",
       "      <td>https://letterboxd.com/the_sam/</td>\n",
       "      <td>I know for a fact me and my father have a grea...</td>\n",
       "      <td>Pathos</td>\n",
       "    </tr>\n",
       "    <tr>\n",
       "      <th>7</th>\n",
       "      <td>Anton Joska</td>\n",
       "      <td>https://letterboxd.com/antonj/</td>\n",
       "      <td>Well Done Christopher Nolan! Well done!</td>\n",
       "      <td>Ethos</td>\n",
       "    </tr>\n",
       "    <tr>\n",
       "      <th>8</th>\n",
       "      <td>Joshy</td>\n",
       "      <td>https://letterboxd.com/jozhster/</td>\n",
       "      <td>Visually gorgeous with Nolan’s now signature p...</td>\n",
       "      <td>Logos</td>\n",
       "    </tr>\n",
       "    <tr>\n",
       "      <th>9</th>\n",
       "      <td>Allan Arkush</td>\n",
       "      <td>https://letterboxd.com/aarkush/</td>\n",
       "      <td>Deeply felt, every second was compelling. I co...</td>\n",
       "      <td>Pathos</td>\n",
       "    </tr>\n",
       "    <tr>\n",
       "      <th>10</th>\n",
       "      <td>MainlyMovies1</td>\n",
       "      <td>https://letterboxd.com/mainlymovies1/</td>\n",
       "      <td>Nolan is the only director to make a film that...</td>\n",
       "      <td>Logos</td>\n",
       "    </tr>\n",
       "    <tr>\n",
       "      <th>11</th>\n",
       "      <td>LukeB🐊</td>\n",
       "      <td>https://letterboxd.com/mrlukeb/</td>\n",
       "      <td>third time watching this masterpiece and I lov...</td>\n",
       "      <td>Pathos</td>\n",
       "    </tr>\n",
       "    <tr>\n",
       "      <th>12</th>\n",
       "      <td>bel</td>\n",
       "      <td>https://letterboxd.com/ellefnning/</td>\n",
       "      <td>christopher nolan had the opportunity to do th...</td>\n",
       "      <td>Pathos</td>\n",
       "    </tr>\n",
       "    <tr>\n",
       "      <th>13</th>\n",
       "      <td>DavidNeedToKnow</td>\n",
       "      <td>https://letterboxd.com/davidneedtoknow/</td>\n",
       "      <td>Even if this is not my favourite film of the y...</td>\n",
       "      <td>Logos</td>\n",
       "    </tr>\n",
       "    <tr>\n",
       "      <th>14</th>\n",
       "      <td>anna nomaly</td>\n",
       "      <td>https://letterboxd.com/annanomaly/</td>\n",
       "      <td>When Kitty decides to play word games with Rog...</td>\n",
       "      <td>Logos</td>\n",
       "    </tr>\n",
       "    <tr>\n",
       "      <th>15</th>\n",
       "      <td>Paulie Cashews</td>\n",
       "      <td>https://letterboxd.com/pauliecashews/</td>\n",
       "      <td>Get out your torches and pitchforks because I ...</td>\n",
       "      <td>Pathos</td>\n",
       "    </tr>\n",
       "    <tr>\n",
       "      <th>16</th>\n",
       "      <td>christy</td>\n",
       "      <td>https://letterboxd.com/ilsafaust/</td>\n",
       "      <td>if i wanted to listen to men talk for 3 hours ...</td>\n",
       "      <td>Pathos</td>\n",
       "    </tr>\n",
       "    <tr>\n",
       "      <th>17</th>\n",
       "      <td>lola</td>\n",
       "      <td>https://letterboxd.com/cinemanya/</td>\n",
       "      <td>And now I am become deathDestroyer of worldsCi...</td>\n",
       "      <td>Pathos</td>\n",
       "    </tr>\n",
       "    <tr>\n",
       "      <th>18</th>\n",
       "      <td>marshlandz</td>\n",
       "      <td>https://letterboxd.com/marshlandz/</td>\n",
       "      <td>communist women are on the prowl and they all ...</td>\n",
       "      <td>Pathos</td>\n",
       "    </tr>\n",
       "    <tr>\n",
       "      <th>19</th>\n",
       "      <td>ellis</td>\n",
       "      <td>https://letterboxd.com/putinaspliff/</td>\n",
       "      <td>“theory will only take you so far”genius witho...</td>\n",
       "      <td>Logos</td>\n",
       "    </tr>\n",
       "    <tr>\n",
       "      <th>20</th>\n",
       "      <td>mia</td>\n",
       "      <td>https://letterboxd.com/miavll/</td>\n",
       "      <td>me after getting a 3 on my AP biology exam jun...</td>\n",
       "      <td>Pathos</td>\n",
       "    </tr>\n",
       "    <tr>\n",
       "      <th>21</th>\n",
       "      <td>Zachary</td>\n",
       "      <td>https://letterboxd.com/zach_sietsma/</td>\n",
       "      <td>Story: 10/10Acting: 10/10Direction: 10/10Pacin...</td>\n",
       "      <td>Logos</td>\n",
       "    </tr>\n",
       "    <tr>\n",
       "      <th>22</th>\n",
       "      <td>Griffin</td>\n",
       "      <td>https://letterboxd.com/theblackphillip/</td>\n",
       "      <td>Sweet mother of god</td>\n",
       "      <td>Pathos</td>\n",
       "    </tr>\n",
       "    <tr>\n",
       "      <th>23</th>\n",
       "      <td>jaxjax</td>\n",
       "      <td>https://letterboxd.com/jaxjax/</td>\n",
       "      <td>I forgot how to breathe for an hour</td>\n",
       "      <td>Pathos</td>\n",
       "    </tr>\n",
       "    <tr>\n",
       "      <th>24</th>\n",
       "      <td>jane hen</td>\n",
       "      <td>https://letterboxd.com/janehen/</td>\n",
       "      <td>“Can you hear the music, Robert?”“Yes, I can”A...</td>\n",
       "      <td>Pathos</td>\n",
       "    </tr>\n",
       "  </tbody>\n",
       "</table>\n",
       "</div>"
      ],
      "text/plain": [
       "           Reviewer                              Profile_URL  \\\n",
       "0        Jenni Kaye      https://letterboxd.com/hatchetface/   \n",
       "1      cinemadelrey     https://letterboxd.com/cinemadelrey/   \n",
       "2             vitor       https://letterboxd.com/favzscream/   \n",
       "3             aditi        https://letterboxd.com/dianyugen/   \n",
       "4           teamgal          https://letterboxd.com/teamgal/   \n",
       "5         DolanDark        https://letterboxd.com/dolandark/   \n",
       "6           the sam          https://letterboxd.com/the_sam/   \n",
       "7       Anton Joska           https://letterboxd.com/antonj/   \n",
       "8             Joshy         https://letterboxd.com/jozhster/   \n",
       "9      Allan Arkush          https://letterboxd.com/aarkush/   \n",
       "10    MainlyMovies1    https://letterboxd.com/mainlymovies1/   \n",
       "11           LukeB🐊          https://letterboxd.com/mrlukeb/   \n",
       "12              bel       https://letterboxd.com/ellefnning/   \n",
       "13  DavidNeedToKnow  https://letterboxd.com/davidneedtoknow/   \n",
       "14      anna nomaly       https://letterboxd.com/annanomaly/   \n",
       "15   Paulie Cashews    https://letterboxd.com/pauliecashews/   \n",
       "16          christy        https://letterboxd.com/ilsafaust/   \n",
       "17             lola        https://letterboxd.com/cinemanya/   \n",
       "18       marshlandz       https://letterboxd.com/marshlandz/   \n",
       "19            ellis     https://letterboxd.com/putinaspliff/   \n",
       "20              mia           https://letterboxd.com/miavll/   \n",
       "21          Zachary     https://letterboxd.com/zach_sietsma/   \n",
       "22          Griffin  https://letterboxd.com/theblackphillip/   \n",
       "23           jaxjax           https://letterboxd.com/jaxjax/   \n",
       "24         jane hen          https://letterboxd.com/janehen/   \n",
       "\n",
       "                                               Review Annotation  \n",
       "0   I’m that Leo meme pointing at every new famili...     Pathos  \n",
       "1   Wow, i'm speechless!And Cilian Murphy's perfor...     Pathos  \n",
       "2   ABSOLUTE CINEMA.que filme foda, as 3hrs passar...     Pathos  \n",
       "3   One of the best movies of all time. Cillian Mu...     Pathos  \n",
       "4                              Death by sound design.      Logos  \n",
       "5   Can't believe they actually put Gangnam Style ...      Logos  \n",
       "6   I know for a fact me and my father have a grea...     Pathos  \n",
       "7             Well Done Christopher Nolan! Well done!      Ethos  \n",
       "8   Visually gorgeous with Nolan’s now signature p...      Logos  \n",
       "9   Deeply felt, every second was compelling. I co...     Pathos  \n",
       "10  Nolan is the only director to make a film that...      Logos  \n",
       "11  third time watching this masterpiece and I lov...     Pathos  \n",
       "12  christopher nolan had the opportunity to do th...     Pathos  \n",
       "13  Even if this is not my favourite film of the y...      Logos  \n",
       "14  When Kitty decides to play word games with Rog...      Logos  \n",
       "15  Get out your torches and pitchforks because I ...     Pathos  \n",
       "16  if i wanted to listen to men talk for 3 hours ...     Pathos  \n",
       "17  And now I am become deathDestroyer of worldsCi...     Pathos  \n",
       "18  communist women are on the prowl and they all ...     Pathos  \n",
       "19  “theory will only take you so far”genius witho...      Logos  \n",
       "20  me after getting a 3 on my AP biology exam jun...     Pathos  \n",
       "21  Story: 10/10Acting: 10/10Direction: 10/10Pacin...      Logos  \n",
       "22                                Sweet mother of god     Pathos  \n",
       "23                I forgot how to breathe for an hour     Pathos  \n",
       "24  “Can you hear the music, Robert?”“Yes, I can”A...     Pathos  "
      ]
     },
     "execution_count": 164,
     "metadata": {},
     "output_type": "execute_result"
    }
   ],
   "source": [
    "corpora_data[\"batch_3\"][:25]"
   ]
  },
  {
   "cell_type": "code",
   "execution_count": 166,
   "metadata": {},
   "outputs": [
    {
     "name": "stdout",
     "output_type": "stream",
     "text": [
      "batch_1 cohen's kappa between David and GPT: 0.526813880126183\n",
      "batch_1 cohen's kappa between Daoming and GPT: 0.23469387755102045\n",
      "batch_2 cohen's kappa between David and GPT: 0.1071428571428572\n",
      "batch_2 cohen's kappa between Daoming and GPT: 0.16666666666666674\n"
     ]
    }
   ],
   "source": [
    "from sklearn.metrics import cohen_kappa_score\n",
    "from sklearn.preprocessing import LabelEncoder\n",
    "\n",
    "annotation_mapping = {\n",
    "    \"Pathos\": 0,\n",
    "    \"Ethos\": 1,\n",
    "    \"Logos\": 2,\n",
    "    \"Missing\": 3\n",
    "}\n",
    "\n",
    "batches = [\"batch_1\", \"batch_2\", \"batch_3\", \"batch_4\"]\n",
    "\n",
    "batch_1_df_david = pd.read_excel(\"../modified_corpus_batches/xlsx/\" + \"batch_1.xlsx\", sheet_name=\"David\")\n",
    "batch_2_df_david = pd.read_excel(\"../modified_corpus_batches/xlsx/\" + \"batch_2.xlsx\", sheet_name=\"David\")\n",
    "batch_1_df_daoming = pd.read_excel(\"../modified_corpus_batches/xlsx/\" + \"batch_1.xlsx\", sheet_name=\"Daoming\")\n",
    "batch_2_df_daoming = pd.read_excel(\"../modified_corpus_batches/xlsx/\" + \"batch_2.xlsx\", sheet_name=\"Daoming\")\n",
    "david_annotation_1 = batch_1_df_david[\"Annotation\"].fillna(\"Missing\")\n",
    "david_annotation_2 = batch_2_df_david[\"Annotation\"].fillna(\"Missing\")\n",
    "daoming_annotation_1 = batch_1_df_daoming[\"Annotation\"].fillna(\"Missing\")\n",
    "daoming_annotation_2 = batch_2_df_daoming[\"Annotation\"].fillna(\"Missing\")\n",
    "david_encoded_1 = david_annotation_1.map(annotation_mapping)\n",
    "david_encoded_2 = david_annotation_2.map(annotation_mapping)\n",
    "daoming_encoded_1 = daoming_annotation_1.map(annotation_mapping)\n",
    "daoming_encoded_2 = daoming_annotation_2.map(annotation_mapping)\n",
    "\n",
    "for batch in batches:\n",
    "    gpt_annotation = corpora_data[batch][\"Annotation\"][:25].replace(\"None\", \"Missing\")\n",
    "    gpt_encoded = gpt_annotation.map(annotation_mapping)\n",
    "\n",
    "    if batch.endswith(\"1\"):\n",
    "        david_gpt_kappa_score = cohen_kappa_score(david_encoded_1, gpt_encoded)\n",
    "        daoming_gpt_kappa_score = cohen_kappa_score(daoming_encoded_1, gpt_encoded)\n",
    "        print(f\"{batch} cohen's kappa between David and GPT: {david_gpt_kappa_score}\")\n",
    "        print(f\"{batch} cohen's kappa between Daoming and GPT: {daoming_gpt_kappa_score}\")\n",
    "    if batch.endswith(\"2\"):\n",
    "        david_gpt_kappa_score = cohen_kappa_score(david_encoded_2, gpt_encoded)\n",
    "        daoming_gpt_kappa_score = cohen_kappa_score(daoming_encoded_2, gpt_encoded)\n",
    "        print(f\"{batch} cohen's kappa between David and GPT: {david_gpt_kappa_score}\")\n",
    "        print(f\"{batch} cohen's kappa between Daoming and GPT: {daoming_gpt_kappa_score}\")\n",
    "\n",
    "# predefined mapping\n",
    "# label_encoder = LabelEncoder()\n",
    "# david_encoded = label_encoder.fit_transform(david_annotation)\n",
    "# daoming_encoded = label_encoder.transform(daoming_annotation)\n",
    "# gpt_encoded = label_encoder.transform(gpt_annotation)"
   ]
  },
  {
   "cell_type": "code",
   "execution_count": 65,
   "metadata": {},
   "outputs": [
    {
     "name": "stdout",
     "output_type": "stream",
     "text": [
      "Annotating batch_2...\n"
     ]
    },
    {
     "data": {
      "application/vnd.jupyter.widget-view+json": {
       "model_id": "6babbec9ac21495e835f68af01ce16fb",
       "version_major": 2,
       "version_minor": 0
      },
      "text/plain": [
       "Processing:   0%|          | 0/250 [00:00<?, ?it/s]"
      ]
     },
     "metadata": {},
     "output_type": "display_data"
    },
    {
     "name": "stdout",
     "output_type": "stream",
     "text": [
      "Annotating batch_3...\n"
     ]
    },
    {
     "data": {
      "application/vnd.jupyter.widget-view+json": {
       "model_id": "54676f860ceb4b64ac0a827ca52121b4",
       "version_major": 2,
       "version_minor": 0
      },
      "text/plain": [
       "Processing:   0%|          | 0/250 [00:00<?, ?it/s]"
      ]
     },
     "metadata": {},
     "output_type": "display_data"
    },
    {
     "name": "stdout",
     "output_type": "stream",
     "text": [
      "Annotating batch_4...\n"
     ]
    },
    {
     "data": {
      "application/vnd.jupyter.widget-view+json": {
       "model_id": "911d3774b20a408c805d3ea1f99458ab",
       "version_major": 2,
       "version_minor": 0
      },
      "text/plain": [
       "Processing:   0%|          | 0/251 [00:00<?, ?it/s]"
      ]
     },
     "metadata": {},
     "output_type": "display_data"
    }
   ],
   "source": [
    "corpora_directory = \"../modified_corpus_batches/json/\"\n",
    "corpora_batches = {\n",
    "    \"batch_2\": \"batch_2.json\",\n",
    "    \"batch_3\": \"batch_3.json\",\n",
    "    \"batch_4\": \"batch_4.json\"\n",
    "}\n",
    "corpora_data = {\n",
    "    \"batch_2\": None,\n",
    "    \"batch_3\": None,\n",
    "    \"batch_4\": None\n",
    "}\n",
    "all_annotations = {}\n",
    "\n",
    "for batch_name, corpora in corpora_batches.items():\n",
    "    annotations = []\n",
    "    data = pd.read_json(corpora_directory + corpora)\n",
    "    reviews = data[\"Review\"]\n",
    "    print(f\"Annotating {batch_name}...\")\n",
    "    \n",
    "    for review in tqdm(reviews, desc=\"Processing\"):\n",
    "        question = f\"Classify the following movie review: {review}\"\n",
    "        annotations.append({\n",
    "            \"Annotation\": llm_response(prompt, question)\n",
    "        })\n",
    "\n",
    "    all_annotations[batch_name] = annotations\n",
    "    corpora_data[batch_name] = data.copy()\n",
    "    \n",
    "    for annotation in annotations:\n",
    "        corpora_data[batch_name][\"Annotation\"] = annotation[\"Annotation\"]\n",
    "    "
   ]
  },
  {
   "cell_type": "code",
   "execution_count": 70,
   "metadata": {},
   "outputs": [
    {
     "data": {
      "text/plain": [
       "0      None\n",
       "1      None\n",
       "2      None\n",
       "3      None\n",
       "4      None\n",
       "       ... \n",
       "246    None\n",
       "247    None\n",
       "248    None\n",
       "249    None\n",
       "250    None\n",
       "Name: Annotation, Length: 251, dtype: object"
      ]
     },
     "execution_count": 70,
     "metadata": {},
     "output_type": "execute_result"
    }
   ],
   "source": [
    "corpora_data[\"batch_4\"][\"Annotation\"]"
   ]
  },
  {
   "cell_type": "code",
   "execution_count": null,
   "metadata": {},
   "outputs": [],
   "source": []
  },
  {
   "cell_type": "code",
   "execution_count": null,
   "metadata": {},
   "outputs": [],
   "source": []
  }
 ],
 "metadata": {
  "kernelspec": {
   "display_name": "base",
   "language": "python",
   "name": "python3"
  },
  "language_info": {
   "codemirror_mode": {
    "name": "ipython",
    "version": 3
   },
   "file_extension": ".py",
   "mimetype": "text/x-python",
   "name": "python",
   "nbconvert_exporter": "python",
   "pygments_lexer": "ipython3",
   "version": "3.11.9"
  }
 },
 "nbformat": 4,
 "nbformat_minor": 2
}
